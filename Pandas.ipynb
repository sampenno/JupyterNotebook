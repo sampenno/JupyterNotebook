{
 "cells": [
  {
   "cell_type": "code",
   "execution_count": null,
   "id": "97949776",
   "metadata": {},
   "outputs": [],
   "source": []
  },
  {
   "cell_type": "code",
   "execution_count": 1,
   "id": "8b915c1d",
   "metadata": {},
   "outputs": [
    {
     "name": "stdout",
     "output_type": "stream",
     "text": [
      "{'cars': [{'name': 'Ford', 'year': 2010, 'price': 20000}, {'name': 'Toyota', 'year': 2012, 'price': 18000}, {'name': 'Honda', 'year': 2015, 'price': 22000}]}\n",
      "                                               cars\n",
      "0    {'name': 'Ford', 'year': 2010, 'price': 20000}\n",
      "1  {'name': 'Toyota', 'year': 2012, 'price': 18000}\n",
      "2   {'name': 'Honda', 'year': 2015, 'price': 22000}\n"
     ]
    }
   ],
   "source": [
    "import pandas as pd\n",
    "\n",
    "\n",
    "mydataset = {\n",
    "    \"cars\": [\n",
    "        {\"name\": \"Ford\", \"year\": 2010, \"price\": 20000},\n",
    "        {\"name\": \"Toyota\", \"year\": 2012, \"price\": 18000},\n",
    "        {\"name\": \"Honda\", \"year\": 2015, \"price\": 22000},\n",
    "    ]\n",
    "}\n",
    "print(mydataset) #prints dictionary\n",
    "myvar = pd.DataFrame(mydataset)\n",
    "print(myvar) #prints DataFrame"
   ]
  },
  {
   "cell_type": "code",
   "execution_count": 3,
   "id": "c90b6e38",
   "metadata": {},
   "outputs": [
    {
     "name": "stdout",
     "output_type": "stream",
     "text": [
      "Student Records\n",
      "\n",
      "   student  rank  marks  age\n",
      "0    Anit     4     85   20\n",
      "1    John     2     90   21\n",
      "2   Jacob     5     78   19\n",
      "3   David     3     88   22\n",
      "4   Steve     1     92   20\n"
     ]
    }
   ],
   "source": [
    "# dataset\n",
    "data = {\n",
    "    'student': ['Anit', 'John', 'Jacob', 'David', 'Steve'],\n",
    "    'rank': [4, 2, 5, 3, 1],\n",
    "    'marks': [85, 90, 78, 88, 92],\n",
    "    'age': [20, 21, 19, 22, 20]\n",
    "    }\n",
    "\n",
    "res = pd.DataFrame(data)\n",
    "print(\"Student Records\\n\\n\", res)"
   ]
  }
 ],
 "metadata": {
  "kernelspec": {
   "display_name": "Python 3",
   "language": "python",
   "name": "python3"
  },
  "language_info": {
   "codemirror_mode": {
    "name": "ipython",
    "version": 3
   },
   "file_extension": ".py",
   "mimetype": "text/x-python",
   "name": "python",
   "nbconvert_exporter": "python",
   "pygments_lexer": "ipython3",
   "version": "3.12.1"
  }
 },
 "nbformat": 4,
 "nbformat_minor": 5
}
